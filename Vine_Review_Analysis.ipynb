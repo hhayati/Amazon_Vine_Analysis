{
 "cells": [
  {
   "cell_type": "code",
   "execution_count": 80,
   "id": "ead0f48b",
   "metadata": {},
   "outputs": [
    {
     "name": "stderr",
     "output_type": "stream",
     "text": [
      "C:\\Data\\Anaconda\\envs\\PythonData\\lib\\site-packages\\IPython\\core\\interactiveshell.py:3457: DtypeWarning: Columns (3) have mixed types.Specify dtype option on import or set low_memory=False.\n",
      "  exec(code_obj, self.user_global_ns, self.user_ns)\n"
     ]
    },
    {
     "data": {
      "text/html": [
       "<div>\n",
       "<style scoped>\n",
       "    .dataframe tbody tr th:only-of-type {\n",
       "        vertical-align: middle;\n",
       "    }\n",
       "\n",
       "    .dataframe tbody tr th {\n",
       "        vertical-align: top;\n",
       "    }\n",
       "\n",
       "    .dataframe thead th {\n",
       "        text-align: right;\n",
       "    }\n",
       "</style>\n",
       "<table border=\"1\" class=\"dataframe\">\n",
       "  <thead>\n",
       "    <tr style=\"text-align: right;\">\n",
       "      <th></th>\n",
       "      <th>review_id</th>\n",
       "      <th>helpful_votes</th>\n",
       "      <th>vine</th>\n",
       "      <th>star_rating</th>\n",
       "      <th>total_votes</th>\n",
       "      <th>verified_purchase</th>\n",
       "    </tr>\n",
       "  </thead>\n",
       "  <tbody>\n",
       "    <tr>\n",
       "      <th>0</th>\n",
       "      <td>R3W4P9UBGNGH1U</td>\n",
       "      <td>1.0</td>\n",
       "      <td>N</td>\n",
       "      <td>2</td>\n",
       "      <td>3.0</td>\n",
       "      <td>Y</td>\n",
       "    </tr>\n",
       "    <tr>\n",
       "      <th>1</th>\n",
       "      <td>R15V54KBMTQWAY</td>\n",
       "      <td>0.0</td>\n",
       "      <td>N</td>\n",
       "      <td>4</td>\n",
       "      <td>0.0</td>\n",
       "      <td>N</td>\n",
       "    </tr>\n",
       "    <tr>\n",
       "      <th>2</th>\n",
       "      <td>RY8I449HNXSVF</td>\n",
       "      <td>0.0</td>\n",
       "      <td>N</td>\n",
       "      <td>5</td>\n",
       "      <td>0.0</td>\n",
       "      <td>Y</td>\n",
       "    </tr>\n",
       "    <tr>\n",
       "      <th>3</th>\n",
       "      <td>R18TLJYCKJFLSR</td>\n",
       "      <td>0.0</td>\n",
       "      <td>N</td>\n",
       "      <td>5</td>\n",
       "      <td>0.0</td>\n",
       "      <td>Y</td>\n",
       "    </tr>\n",
       "    <tr>\n",
       "      <th>4</th>\n",
       "      <td>R1NK26SWS53B8Q</td>\n",
       "      <td>0.0</td>\n",
       "      <td>N</td>\n",
       "      <td>5</td>\n",
       "      <td>0.0</td>\n",
       "      <td>Y</td>\n",
       "    </tr>\n",
       "  </tbody>\n",
       "</table>\n",
       "</div>"
      ],
      "text/plain": [
       "        review_id  helpful_votes vine star_rating  total_votes  \\\n",
       "0  R3W4P9UBGNGH1U            1.0    N           2          3.0   \n",
       "1  R15V54KBMTQWAY            0.0    N           4          0.0   \n",
       "2   RY8I449HNXSVF            0.0    N           5          0.0   \n",
       "3  R18TLJYCKJFLSR            0.0    N           5          0.0   \n",
       "4  R1NK26SWS53B8Q            0.0    N           5          0.0   \n",
       "\n",
       "  verified_purchase  \n",
       "0                 Y  \n",
       "1                 N  \n",
       "2                 Y  \n",
       "3                 Y  \n",
       "4                 Y  "
      ]
     },
     "execution_count": 80,
     "metadata": {},
     "output_type": "execute_result"
    }
   ],
   "source": [
    "import pandas as pd\n",
    "vine_df = pd.read_csv('vine_data.csv')\n",
    "vine_df.head()"
   ]
  },
  {
   "cell_type": "code",
   "execution_count": 115,
   "id": "4f77572c",
   "metadata": {},
   "outputs": [],
   "source": [
    "vine_df= vine_df.loc[vine_df['total_votes'] >= 20]\n",
    "vine_df.head()\n",
    "len(vine_df)\n",
    "\n",
    "vine_df['star_rating'] = pd.to_numeric(vine_df['star_rating'])"
   ]
  },
  {
   "cell_type": "code",
   "execution_count": 102,
   "id": "2c172958",
   "metadata": {},
   "outputs": [
    {
     "data": {
      "text/html": [
       "<div>\n",
       "<style scoped>\n",
       "    .dataframe tbody tr th:only-of-type {\n",
       "        vertical-align: middle;\n",
       "    }\n",
       "\n",
       "    .dataframe tbody tr th {\n",
       "        vertical-align: top;\n",
       "    }\n",
       "\n",
       "    .dataframe thead th {\n",
       "        text-align: right;\n",
       "    }\n",
       "</style>\n",
       "<table border=\"1\" class=\"dataframe\">\n",
       "  <thead>\n",
       "    <tr style=\"text-align: right;\">\n",
       "      <th></th>\n",
       "      <th>helpful_votes</th>\n",
       "      <th>star_rating</th>\n",
       "      <th>total_votes</th>\n",
       "    </tr>\n",
       "  </thead>\n",
       "  <tbody>\n",
       "    <tr>\n",
       "      <th>count</th>\n",
       "      <td>72587.000000</td>\n",
       "      <td>72587.000000</td>\n",
       "      <td>72587.000000</td>\n",
       "    </tr>\n",
       "    <tr>\n",
       "      <th>mean</th>\n",
       "      <td>52.337774</td>\n",
       "      <td>3.442200</td>\n",
       "      <td>61.068249</td>\n",
       "    </tr>\n",
       "    <tr>\n",
       "      <th>std</th>\n",
       "      <td>110.205222</td>\n",
       "      <td>1.669856</td>\n",
       "      <td>115.557798</td>\n",
       "    </tr>\n",
       "    <tr>\n",
       "      <th>min</th>\n",
       "      <td>0.000000</td>\n",
       "      <td>1.000000</td>\n",
       "      <td>20.000000</td>\n",
       "    </tr>\n",
       "    <tr>\n",
       "      <th>25%</th>\n",
       "      <td>20.000000</td>\n",
       "      <td>1.000000</td>\n",
       "      <td>24.000000</td>\n",
       "    </tr>\n",
       "    <tr>\n",
       "      <th>50%</th>\n",
       "      <td>28.000000</td>\n",
       "      <td>4.000000</td>\n",
       "      <td>34.000000</td>\n",
       "    </tr>\n",
       "    <tr>\n",
       "      <th>75%</th>\n",
       "      <td>48.000000</td>\n",
       "      <td>5.000000</td>\n",
       "      <td>56.000000</td>\n",
       "    </tr>\n",
       "    <tr>\n",
       "      <th>max</th>\n",
       "      <td>5854.000000</td>\n",
       "      <td>5.000000</td>\n",
       "      <td>6063.000000</td>\n",
       "    </tr>\n",
       "  </tbody>\n",
       "</table>\n",
       "</div>"
      ],
      "text/plain": [
       "       helpful_votes   star_rating   total_votes\n",
       "count   72587.000000  72587.000000  72587.000000\n",
       "mean       52.337774      3.442200     61.068249\n",
       "std       110.205222      1.669856    115.557798\n",
       "min         0.000000      1.000000     20.000000\n",
       "25%        20.000000      1.000000     24.000000\n",
       "50%        28.000000      4.000000     34.000000\n",
       "75%        48.000000      5.000000     56.000000\n",
       "max      5854.000000      5.000000   6063.000000"
      ]
     },
     "execution_count": 102,
     "metadata": {},
     "output_type": "execute_result"
    }
   ],
   "source": [
    "vine_df.describe()"
   ]
  },
  {
   "cell_type": "code",
   "execution_count": 103,
   "id": "b463973e",
   "metadata": {},
   "outputs": [],
   "source": [
    "vine_df['helpful_ratio']=vine_df['helpful_votes']/vine_df['total_votes']"
   ]
  },
  {
   "cell_type": "code",
   "execution_count": 104,
   "id": "7baa73f1",
   "metadata": {},
   "outputs": [
    {
     "data": {
      "text/plain": [
       "65581"
      ]
     },
     "execution_count": 104,
     "metadata": {},
     "output_type": "execute_result"
    }
   ],
   "source": [
    "vine_df_helpful=vine_df[(vine_df['helpful_votes']/vine_df['total_votes'] >=0.5)]\n",
    "vine_df_helpful.head()\n",
    "len(vine_df_helpful)"
   ]
  },
  {
   "cell_type": "code",
   "execution_count": 105,
   "id": "e26fe8fb",
   "metadata": {},
   "outputs": [
    {
     "data": {
      "text/plain": [
       "613"
      ]
     },
     "execution_count": 105,
     "metadata": {},
     "output_type": "execute_result"
    }
   ],
   "source": [
    "vine_df_paid=vine_df_helpful[(vine_df_helpful['vine'] == \"Y\")]\n",
    "vine_df_paid.head()\n",
    "len(vine_df_paid)"
   ]
  },
  {
   "cell_type": "code",
   "execution_count": 106,
   "id": "a532b248",
   "metadata": {},
   "outputs": [
    {
     "data": {
      "text/plain": [
       "64968"
      ]
     },
     "execution_count": 106,
     "metadata": {},
     "output_type": "execute_result"
    }
   ],
   "source": [
    "vine_df_unpaid=vine_df_helpful[(vine_df_helpful['vine'] == \"N\")]\n",
    "vine_df_unpaid.head()\n",
    "len(vine_df_unpaid)"
   ]
  },
  {
   "cell_type": "code",
   "execution_count": 107,
   "id": "c71e4f79",
   "metadata": {},
   "outputs": [
    {
     "name": "stdout",
     "output_type": "stream",
     "text": [
      "paid_review_count=613\n",
      "unpaid_review_count=64968\n"
     ]
    }
   ],
   "source": [
    "paid_review_count =len(vine_df_paid.index)\n",
    "paid_review_count\n",
    "print('paid_review_count='+ str(paid_review_count))\n",
    "unpaid_review_count=len(vine_df_unpaid.index)\n",
    "print('unpaid_review_count='+ str(unpaid_review_count))"
   ]
  },
  {
   "cell_type": "code",
   "execution_count": 108,
   "id": "86523d70",
   "metadata": {},
   "outputs": [
    {
     "data": {
      "text/plain": [
       "222"
      ]
     },
     "execution_count": 108,
     "metadata": {},
     "output_type": "execute_result"
    }
   ],
   "source": [
    "five_star_paid_count= vine_df_paid[(vine_df_paid['star_rating']==5)].count()[0]\n",
    "five_star_paid_count\n"
   ]
  },
  {
   "cell_type": "code",
   "execution_count": 109,
   "id": "a000c780",
   "metadata": {},
   "outputs": [
    {
     "data": {
      "text/plain": [
       "30543"
      ]
     },
     "execution_count": 109,
     "metadata": {},
     "output_type": "execute_result"
    }
   ],
   "source": [
    "five_star_unpaid_count= vine_df_unpaid[(vine_df_unpaid['star_rating']==5)].count()[0]\n",
    "five_star_unpaid_count"
   ]
  },
  {
   "cell_type": "code",
   "execution_count": 111,
   "id": "bfa7c84c",
   "metadata": {},
   "outputs": [],
   "source": [
    "ratio_five_star_paid=five_star_paid_count/paid_review_count\n",
    "ratio_five_star_unpaid=five_star_unpaid_count/unpaid_review_count"
   ]
  },
  {
   "cell_type": "code",
   "execution_count": 112,
   "id": "2ab24b19",
   "metadata": {},
   "outputs": [
    {
     "name": "stdout",
     "output_type": "stream",
     "text": [
      "ratio of 5 star review for paid is 0.3621533442088091\n"
     ]
    }
   ],
   "source": [
    "print('ratio of 5 star review for paid is '+ str(ratio_five_star_paid))"
   ]
  },
  {
   "cell_type": "code",
   "execution_count": 114,
   "id": "cace67f1",
   "metadata": {},
   "outputs": [
    {
     "name": "stdout",
     "output_type": "stream",
     "text": [
      "ratio of 5 star review for unpaid is 0.47012375323236055\n"
     ]
    }
   ],
   "source": [
    "print('ratio of 5 star review for unpaid is '+ str(ratio_five_star_unpaid))"
   ]
  },
  {
   "cell_type": "code",
   "execution_count": null,
   "id": "92e26e7c",
   "metadata": {},
   "outputs": [],
   "source": []
  }
 ],
 "metadata": {
  "kernelspec": {
   "display_name": "Python 3 (ipykernel)",
   "language": "python",
   "name": "python3"
  },
  "language_info": {
   "codemirror_mode": {
    "name": "ipython",
    "version": 3
   },
   "file_extension": ".py",
   "mimetype": "text/x-python",
   "name": "python",
   "nbconvert_exporter": "python",
   "pygments_lexer": "ipython3",
   "version": "3.7.13"
  }
 },
 "nbformat": 4,
 "nbformat_minor": 5
}
